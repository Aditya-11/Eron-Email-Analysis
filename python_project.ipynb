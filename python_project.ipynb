{
  "nbformat": 4,
  "nbformat_minor": 0,
  "metadata": {
    "colab": {
      "name": "python-project.ipynb",
      "provenance": [],
      "collapsed_sections": [],
      "include_colab_link": true
    },
    "kernelspec": {
      "name": "python3",
      "display_name": "Python 3"
    }
  },
  "cells": [
    {
      "cell_type": "markdown",
      "metadata": {
        "id": "view-in-github",
        "colab_type": "text"
      },
      "source": [
        "<a href=\"https://colab.research.google.com/github/Aditya-11/Eron-Email-Analysis/blob/aditya/python_project.ipynb\" target=\"_parent\"><img src=\"https://colab.research.google.com/assets/colab-badge.svg\" alt=\"Open In Colab\"/></a>"
      ]
    },
    {
      "cell_type": "code",
      "metadata": {
        "id": "gz_E3mQzqc5V",
        "colab_type": "code",
        "cellView": "both",
        "colab": {
          "base_uri": "https://localhost:8080/",
          "height": 52
        },
        "outputId": "ddeac365-af6e-431d-bd2d-45ddacfd1957"
      },
      "source": [
        "#@title\n",
        "import pandas as pd\n",
        "\n",
        "import os \n",
        "\"\"\"\n",
        "mypath = os.path.dirname(os.path.realpath('python-project.ipyb'))\n",
        "\n",
        "print(mypath)\n",
        "\n",
        "from os import listdir\n",
        "from os.path import isfile, join\n",
        "onlyfiles = [f for f in listdir(mypath) if isfile(join(mypath, f))]\n",
        "\n",
        "print(onlyfiles)\n",
        "\"\"\""
      ],
      "execution_count": 9,
      "outputs": [
        {
          "output_type": "stream",
          "text": [
            "/content\n",
            "[]\n"
          ],
          "name": "stdout"
        }
      ]
    },
    {
      "cell_type": "code",
      "metadata": {
        "id": "_jfr9kmOzJ2u",
        "colab_type": "code",
        "colab": {}
      },
      "source": [
        "import pandas as pd\n",
        "\n",
        "url = 'https://drive.google.com/file/d/1fan6XhI_vvkkF-xakP1i2EY6W0w6xNKf/view?usp=sharing'\n",
        "\n",
        "!pip install -U -q PyDrive\n",
        "from pydrive.auth import GoogleAuth\n",
        "from pydrive.drive import GoogleDrive\n",
        "from google.colab import auth\n",
        "from oauth2client.client import GoogleCredentials# Authenticate and create the PyDrive client.\n",
        "auth.authenticate_user()\n",
        "gauth = GoogleAuth()\n",
        "gauth.credentials = GoogleCredentials.get_application_default()\n",
        "drive = GoogleDrive(gauth)\n",
        "\n",
        "\n",
        "id = '1fan6XhI_vvkkF-xakP1i2EY6W0w6xNKf'\n",
        "downloaded = drive.CreateFile({'id':id}) \n",
        "downloaded.GetContentFile('data.csv')  \n",
        "\n",
        "df3 = pd.read_csv('data.csv')\n",
        "\n",
        "\n",
        "#df1 = pd.read_csv(url)\n"
      ],
      "execution_count": 0,
      "outputs": []
    },
    {
      "cell_type": "code",
      "metadata": {
        "id": "wWpjuQ9m2kGC",
        "colab_type": "code",
        "colab": {
          "base_uri": "https://localhost:8080/",
          "height": 260
        },
        "outputId": "4b0a3e8c-9f7b-442a-ea0e-21002c0ea435"
      },
      "source": [
        "import pandas as pd\n",
        "\n",
        "df3 = pd.read_csv('data.csv')\n",
        "\n",
        "print(df3)\n",
        "\n",
        "#print(df3.describe())\n"
      ],
      "execution_count": 20,
      "outputs": [
        {
          "output_type": "stream",
          "text": [
            "               Sender  ...                                       Message body\n",
            "0       phillip.allen  ...                              Here is our forecast \n",
            "1       phillip.allen  ...  Traveling to have a business meeting takes the...\n",
            "2       phillip.allen  ...                     test successful.  way to go!!!\n",
            "3       phillip.allen  ...  Randy, Can you send me a schedule of the salar...\n",
            "4       phillip.allen  ...                Let's shoot for Tuesday at 11:45.  \n",
            "...               ...  ...                                                ...\n",
            "517396  john.zufferli  ...  This is a trade with OIL-SPEC-HEDGE-NG (John L...\n",
            "517397  john.zufferli  ...  Some of my position is with the Alberta Term b...\n",
            "517398  john.zufferli  ...  2 -----Original Message-----Sent:\\tWednesday, ...\n",
            "517399  john.zufferli  ...  Analyst\\t\\t\\t\\t\\tRankStephane Brodeur\\t\\t\\t1Ch...\n",
            "517400  john.zufferli  ...  i think the YMCA has a class that is for peopl...\n",
            "\n",
            "[517401 rows x 5 columns]\n"
          ],
          "name": "stdout"
        }
      ]
    },
    {
      "cell_type": "markdown",
      "metadata": {
        "id": "eHr0TOGVqq1b",
        "colab_type": "text"
      },
      "source": [
        ""
      ]
    }
  ]
}